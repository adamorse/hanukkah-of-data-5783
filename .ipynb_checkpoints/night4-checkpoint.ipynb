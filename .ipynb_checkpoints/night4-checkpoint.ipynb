{
 "cells": [
  {
   "cell_type": "markdown",
   "id": "1f101841",
   "metadata": {},
   "source": [
    "So we're looking for someone who has a habit of buying pastries early in the morning!\n",
    "\n",
    "I built a full merged version of the dataset just to not have to do that all the time. So let's start by importing that."
   ]
  },
  {
   "cell_type": "code",
   "execution_count": 1,
   "id": "dc2f264d",
   "metadata": {},
   "outputs": [
    {
     "data": {
      "text/html": [
       "<div>\n",
       "<style scoped>\n",
       "    .dataframe tbody tr th:only-of-type {\n",
       "        vertical-align: middle;\n",
       "    }\n",
       "\n",
       "    .dataframe tbody tr th {\n",
       "        vertical-align: top;\n",
       "    }\n",
       "\n",
       "    .dataframe thead th {\n",
       "        text-align: right;\n",
       "    }\n",
       "</style>\n",
       "<table border=\"1\" class=\"dataframe\">\n",
       "  <thead>\n",
       "    <tr style=\"text-align: right;\">\n",
       "      <th></th>\n",
       "      <th>customerid</th>\n",
       "      <th>name</th>\n",
       "      <th>address</th>\n",
       "      <th>citystatezip</th>\n",
       "      <th>birthdate</th>\n",
       "      <th>phone</th>\n",
       "      <th>orderid</th>\n",
       "      <th>ordered</th>\n",
       "      <th>shipped</th>\n",
       "      <th>items</th>\n",
       "      <th>total</th>\n",
       "      <th>sku</th>\n",
       "      <th>qty</th>\n",
       "      <th>unit_price</th>\n",
       "      <th>desc</th>\n",
       "      <th>wholesale_cost</th>\n",
       "    </tr>\n",
       "  </thead>\n",
       "  <tbody>\n",
       "    <tr>\n",
       "      <th>0</th>\n",
       "      <td>11145</td>\n",
       "      <td>Frederick Moss</td>\n",
       "      <td>2855 Bronx Park E</td>\n",
       "      <td>Bronx, NY 10467</td>\n",
       "      <td>1971-07-15</td>\n",
       "      <td>917-807-7174</td>\n",
       "      <td>1589</td>\n",
       "      <td>2017-02-05 16:15:23</td>\n",
       "      <td>2017-02-05 20:00:00</td>\n",
       "      <td>NaN</td>\n",
       "      <td>33.47</td>\n",
       "      <td>DLI0002</td>\n",
       "      <td>1</td>\n",
       "      <td>10.16</td>\n",
       "      <td>Smoked Whitefish Sandwich</td>\n",
       "      <td>9.33</td>\n",
       "    </tr>\n",
       "    <tr>\n",
       "      <th>1</th>\n",
       "      <td>4140</td>\n",
       "      <td>Linda Porter</td>\n",
       "      <td>559 W 139th St</td>\n",
       "      <td>Manhattan, NY 10031</td>\n",
       "      <td>1979-06-09</td>\n",
       "      <td>516-933-2477</td>\n",
       "      <td>1767</td>\n",
       "      <td>2017-02-07 14:48:09</td>\n",
       "      <td>2017-02-07 16:15:00</td>\n",
       "      <td>NaN</td>\n",
       "      <td>283.37</td>\n",
       "      <td>DLI0002</td>\n",
       "      <td>1</td>\n",
       "      <td>10.75</td>\n",
       "      <td>Smoked Whitefish Sandwich</td>\n",
       "      <td>9.33</td>\n",
       "    </tr>\n",
       "    <tr>\n",
       "      <th>2</th>\n",
       "      <td>6080</td>\n",
       "      <td>Amy Wilson</td>\n",
       "      <td>375 W 123rd St</td>\n",
       "      <td>Manhattan, NY 10027</td>\n",
       "      <td>1976-06-08</td>\n",
       "      <td>838-660-8339</td>\n",
       "      <td>1934</td>\n",
       "      <td>2017-02-09 11:21:16</td>\n",
       "      <td>2017-02-09 12:45:00</td>\n",
       "      <td>NaN</td>\n",
       "      <td>22.25</td>\n",
       "      <td>DLI0002</td>\n",
       "      <td>1</td>\n",
       "      <td>12.17</td>\n",
       "      <td>Smoked Whitefish Sandwich</td>\n",
       "      <td>9.33</td>\n",
       "    </tr>\n",
       "    <tr>\n",
       "      <th>3</th>\n",
       "      <td>5406</td>\n",
       "      <td>Tina Lauren Goodwin</td>\n",
       "      <td>1431B St Nicholas Ave</td>\n",
       "      <td>Manhattan, NY 10033</td>\n",
       "      <td>1960-12-10</td>\n",
       "      <td>585-878-9905</td>\n",
       "      <td>2944</td>\n",
       "      <td>2017-02-19 15:52:35</td>\n",
       "      <td>2017-02-19 17:45:00</td>\n",
       "      <td>NaN</td>\n",
       "      <td>44.52</td>\n",
       "      <td>DLI0002</td>\n",
       "      <td>1</td>\n",
       "      <td>11.69</td>\n",
       "      <td>Smoked Whitefish Sandwich</td>\n",
       "      <td>9.33</td>\n",
       "    </tr>\n",
       "    <tr>\n",
       "      <th>4</th>\n",
       "      <td>7635</td>\n",
       "      <td>Robert Armstrong</td>\n",
       "      <td>620 W 162nd St</td>\n",
       "      <td>Manhattan, NY 10032</td>\n",
       "      <td>1982-07-30</td>\n",
       "      <td>516-851-2207</td>\n",
       "      <td>4207</td>\n",
       "      <td>2017-03-05 10:16:19</td>\n",
       "      <td>2017-03-05 10:16:19</td>\n",
       "      <td>NaN</td>\n",
       "      <td>13.04</td>\n",
       "      <td>DLI0002</td>\n",
       "      <td>1</td>\n",
       "      <td>11.37</td>\n",
       "      <td>Smoked Whitefish Sandwich</td>\n",
       "      <td>9.33</td>\n",
       "    </tr>\n",
       "  </tbody>\n",
       "</table>\n",
       "</div>"
      ],
      "text/plain": [
       "   customerid                 name                address  \\\n",
       "0       11145       Frederick Moss      2855 Bronx Park E   \n",
       "1        4140         Linda Porter         559 W 139th St   \n",
       "2        6080           Amy Wilson         375 W 123rd St   \n",
       "3        5406  Tina Lauren Goodwin  1431B St Nicholas Ave   \n",
       "4        7635     Robert Armstrong         620 W 162nd St   \n",
       "\n",
       "          citystatezip   birthdate         phone  orderid             ordered  \\\n",
       "0      Bronx, NY 10467  1971-07-15  917-807-7174     1589 2017-02-05 16:15:23   \n",
       "1  Manhattan, NY 10031  1979-06-09  516-933-2477     1767 2017-02-07 14:48:09   \n",
       "2  Manhattan, NY 10027  1976-06-08  838-660-8339     1934 2017-02-09 11:21:16   \n",
       "3  Manhattan, NY 10033  1960-12-10  585-878-9905     2944 2017-02-19 15:52:35   \n",
       "4  Manhattan, NY 10032  1982-07-30  516-851-2207     4207 2017-03-05 10:16:19   \n",
       "\n",
       "              shipped  items   total      sku  qty  unit_price  \\\n",
       "0 2017-02-05 20:00:00    NaN   33.47  DLI0002    1       10.16   \n",
       "1 2017-02-07 16:15:00    NaN  283.37  DLI0002    1       10.75   \n",
       "2 2017-02-09 12:45:00    NaN   22.25  DLI0002    1       12.17   \n",
       "3 2017-02-19 17:45:00    NaN   44.52  DLI0002    1       11.69   \n",
       "4 2017-03-05 10:16:19    NaN   13.04  DLI0002    1       11.37   \n",
       "\n",
       "                        desc  wholesale_cost  \n",
       "0  Smoked Whitefish Sandwich            9.33  \n",
       "1  Smoked Whitefish Sandwich            9.33  \n",
       "2  Smoked Whitefish Sandwich            9.33  \n",
       "3  Smoked Whitefish Sandwich            9.33  \n",
       "4  Smoked Whitefish Sandwich            9.33  "
      ]
     },
     "execution_count": 1,
     "metadata": {},
     "output_type": "execute_result"
    }
   ],
   "source": [
    "import pandas as pd\n",
    "import numpy as np\n",
    "full = pd.read_csv('full.csv').drop('Unnamed: 0',axis=1)\n",
    "full.ordered = pd.to_datetime(full.ordered,infer_datetime_format = True)\n",
    "full.shipped = pd.to_datetime(full.shipped,infer_datetime_format = True)\n",
    "full.head()"
   ]
  },
  {
   "cell_type": "markdown",
   "id": "6a10ba32",
   "metadata": {},
   "source": [
    "Let's figure out bakery related SKUs"
   ]
  },
  {
   "cell_type": "code",
   "execution_count": 2,
   "id": "618ccc68",
   "metadata": {},
   "outputs": [
    {
     "data": {
      "text/plain": [
       "KIT    121726\n",
       "PET    101443\n",
       "HOM     66004\n",
       "TOY     56562\n",
       "COL     30645\n",
       "DLI     27535\n",
       "CMP     16190\n",
       "BKY      7671\n",
       "Name: sku, dtype: int64"
      ]
     },
     "execution_count": 2,
     "metadata": {},
     "output_type": "execute_result"
    }
   ],
   "source": [
    "full['sku'] = full['sku'].str.slice(0,3)\n",
    "full['sku'].value_counts()"
   ]
  },
  {
   "cell_type": "markdown",
   "id": "2b42d3ab",
   "metadata": {},
   "source": [
    "Looks like BKY is probably bakery, let's try it."
   ]
  },
  {
   "cell_type": "code",
   "execution_count": 3,
   "id": "de81e049",
   "metadata": {},
   "outputs": [],
   "source": [
    "bky = full[(full.sku.str.contains('BKY'))]"
   ]
  },
  {
   "cell_type": "markdown",
   "id": "9be9332d",
   "metadata": {},
   "source": [
    "Now, to get early in the morning we'll use `ordered` and `shipped`. It's possible she orders ahead and shipped contains the pickup time? So let's just use both. I'll give it until 6am to hedge -- maybe she doesn't always pick up before 5."
   ]
  },
  {
   "cell_type": "code",
   "execution_count": 4,
   "id": "f4fa4a17",
   "metadata": {},
   "outputs": [],
   "source": [
    "early = bky[(bky.ordered.dt.hour < 6) |(bky.shipped.dt.hour < 6)]"
   ]
  },
  {
   "cell_type": "markdown",
   "id": "05367596",
   "metadata": {},
   "source": [
    "Now, let's find returning customers"
   ]
  },
  {
   "cell_type": "code",
   "execution_count": 5,
   "id": "051037f0",
   "metadata": {},
   "outputs": [
    {
     "data": {
      "text/html": [
       "<div>\n",
       "<style scoped>\n",
       "    .dataframe tbody tr th:only-of-type {\n",
       "        vertical-align: middle;\n",
       "    }\n",
       "\n",
       "    .dataframe tbody tr th {\n",
       "        vertical-align: top;\n",
       "    }\n",
       "\n",
       "    .dataframe thead th {\n",
       "        text-align: right;\n",
       "    }\n",
       "</style>\n",
       "<table border=\"1\" class=\"dataframe\">\n",
       "  <thead>\n",
       "    <tr style=\"text-align: right;\">\n",
       "      <th></th>\n",
       "      <th>customerid</th>\n",
       "      <th>name</th>\n",
       "    </tr>\n",
       "  </thead>\n",
       "  <tbody>\n",
       "    <tr>\n",
       "      <th>20</th>\n",
       "      <td>5375</td>\n",
       "      <td>10</td>\n",
       "    </tr>\n",
       "    <tr>\n",
       "      <th>23</th>\n",
       "      <td>6623</td>\n",
       "      <td>4</td>\n",
       "    </tr>\n",
       "    <tr>\n",
       "      <th>39</th>\n",
       "      <td>10374</td>\n",
       "      <td>4</td>\n",
       "    </tr>\n",
       "    <tr>\n",
       "      <th>31</th>\n",
       "      <td>8744</td>\n",
       "      <td>4</td>\n",
       "    </tr>\n",
       "    <tr>\n",
       "      <th>19</th>\n",
       "      <td>5362</td>\n",
       "      <td>3</td>\n",
       "    </tr>\n",
       "  </tbody>\n",
       "</table>\n",
       "</div>"
      ],
      "text/plain": [
       "    customerid  name\n",
       "20        5375    10\n",
       "23        6623     4\n",
       "39       10374     4\n",
       "31        8744     4\n",
       "19        5362     3"
      ]
     },
     "execution_count": 5,
     "metadata": {},
     "output_type": "execute_result"
    }
   ],
   "source": [
    "num = early.groupby('customerid')[['name']].count()\n",
    "returning = num[num.name > 1].reset_index()\n",
    "returning.sort_values('name',ascending=False).head()"
   ]
  },
  {
   "cell_type": "markdown",
   "id": "e4f0db6c",
   "metadata": {},
   "source": [
    "We've got one habitual early morning pastry buyer! Let's try `5375`"
   ]
  },
  {
   "cell_type": "code",
   "execution_count": 6,
   "id": "2b32f67f",
   "metadata": {},
   "outputs": [
    {
     "data": {
      "text/html": [
       "<div>\n",
       "<style scoped>\n",
       "    .dataframe tbody tr th:only-of-type {\n",
       "        vertical-align: middle;\n",
       "    }\n",
       "\n",
       "    .dataframe tbody tr th {\n",
       "        vertical-align: top;\n",
       "    }\n",
       "\n",
       "    .dataframe thead th {\n",
       "        text-align: right;\n",
       "    }\n",
       "</style>\n",
       "<table border=\"1\" class=\"dataframe\">\n",
       "  <thead>\n",
       "    <tr style=\"text-align: right;\">\n",
       "      <th></th>\n",
       "      <th>customerid</th>\n",
       "      <th>name</th>\n",
       "      <th>address</th>\n",
       "      <th>citystatezip</th>\n",
       "      <th>birthdate</th>\n",
       "      <th>phone</th>\n",
       "      <th>orderid</th>\n",
       "      <th>ordered</th>\n",
       "      <th>shipped</th>\n",
       "      <th>items</th>\n",
       "      <th>total</th>\n",
       "      <th>sku</th>\n",
       "      <th>qty</th>\n",
       "      <th>unit_price</th>\n",
       "      <th>desc</th>\n",
       "      <th>wholesale_cost</th>\n",
       "    </tr>\n",
       "  </thead>\n",
       "  <tbody>\n",
       "    <tr>\n",
       "      <th>6986</th>\n",
       "      <td>5375</td>\n",
       "      <td>Christina Booker</td>\n",
       "      <td>1127 Grinnell Pl</td>\n",
       "      <td>Bronx, NY 10474</td>\n",
       "      <td>1981-01-08</td>\n",
       "      <td>718-649-9036</td>\n",
       "      <td>189441</td>\n",
       "      <td>2022-04-01 23:21:55</td>\n",
       "      <td>2022-04-03 08:45:00</td>\n",
       "      <td>NaN</td>\n",
       "      <td>37.62</td>\n",
       "      <td>PET</td>\n",
       "      <td>2</td>\n",
       "      <td>5.67</td>\n",
       "      <td>Gluten-free Adult Cat Food, Salmon &amp; Turkey</td>\n",
       "      <td>4.49</td>\n",
       "    </tr>\n",
       "  </tbody>\n",
       "</table>\n",
       "</div>"
      ],
      "text/plain": [
       "      customerid              name           address     citystatezip  \\\n",
       "6986        5375  Christina Booker  1127 Grinnell Pl  Bronx, NY 10474   \n",
       "\n",
       "       birthdate         phone  orderid             ordered  \\\n",
       "6986  1981-01-08  718-649-9036   189441 2022-04-01 23:21:55   \n",
       "\n",
       "                 shipped  items  total  sku  qty  unit_price  \\\n",
       "6986 2022-04-03 08:45:00    NaN  37.62  PET    2        5.67   \n",
       "\n",
       "                                             desc  wholesale_cost  \n",
       "6986  Gluten-free Adult Cat Food, Salmon & Turkey            4.49  "
      ]
     },
     "execution_count": 6,
     "metadata": {},
     "output_type": "execute_result"
    }
   ],
   "source": [
    "full[full.customerid == 5375].drop_duplicates(['name','phone'])"
   ]
  },
  {
   "cell_type": "markdown",
   "id": "681041f8",
   "metadata": {},
   "source": [
    "Tada!"
   ]
  },
  {
   "cell_type": "code",
   "execution_count": null,
   "id": "8a53ff92",
   "metadata": {},
   "outputs": [],
   "source": []
  }
 ],
 "metadata": {
  "kernelspec": {
   "display_name": "Python 3 (ipykernel)",
   "language": "python",
   "name": "python3"
  },
  "language_info": {
   "codemirror_mode": {
    "name": "ipython",
    "version": 3
   },
   "file_extension": ".py",
   "mimetype": "text/x-python",
   "name": "python",
   "nbconvert_exporter": "python",
   "pygments_lexer": "ipython3",
   "version": "3.9.12"
  }
 },
 "nbformat": 4,
 "nbformat_minor": 5
}
